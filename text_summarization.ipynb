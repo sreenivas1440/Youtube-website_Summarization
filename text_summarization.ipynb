{
 "cells": [
  {
   "cell_type": "code",
   "execution_count": 2,
   "metadata": {},
   "outputs": [
    {
     "data": {
      "text/plain": [
       "True"
      ]
     },
     "execution_count": 2,
     "metadata": {},
     "output_type": "execute_result"
    }
   ],
   "source": [
    "import os\n",
    "from dotenv import load_dotenv\n",
    "load_dotenv(\"C:\\\\Users\\\\ediga\\\\Desktop\\\\LangChain\\\\myenv\\\\.env\")\n"
   ]
  },
  {
   "cell_type": "code",
   "execution_count": 3,
   "metadata": {},
   "outputs": [],
   "source": [
    "os.environ['GROQ_API_KEY2']=os.getenv(\"GROQ_API_KEY2\")"
   ]
  },
  {
   "cell_type": "code",
   "execution_count": 4,
   "metadata": {},
   "outputs": [],
   "source": [
    "from langchain_groq import ChatGroq\n",
    "api_key = os.getenv(\"GROQ_API_KEY2\")\n"
   ]
  },
  {
   "cell_type": "code",
   "execution_count": 5,
   "metadata": {},
   "outputs": [
    {
     "data": {
      "text/plain": [
       "ChatGroq(client=<groq.resources.chat.completions.Completions object at 0x000002CB74A2DE20>, async_client=<groq.resources.chat.completions.AsyncCompletions object at 0x000002CB74A2E810>, model_name='Gemma2-9b-It', model_kwargs={}, groq_api_key=SecretStr('**********'))"
      ]
     },
     "execution_count": 5,
     "metadata": {},
     "output_type": "execute_result"
    }
   ],
   "source": [
    "llm = ChatGroq(api_key=api_key,model=\"Gemma2-9b-It\")\n",
    "llm"
   ]
  },
  {
   "cell_type": "code",
   "execution_count": 6,
   "metadata": {},
   "outputs": [],
   "source": [
    "from langchain.schema import(\n",
    "    AIMessage,HumanMessage,SystemMessage\n",
    ")"
   ]
  },
  {
   "cell_type": "code",
   "execution_count": 20,
   "metadata": {},
   "outputs": [],
   "source": [
    "speech=\"\"\"Speech on Generative AI: Unlocking New Frontiers in Creativity and Innovation\n",
    "\n",
    "Good [morning/afternoon], everyone.\n",
    "\n",
    "Today, I am excited to speak with you about one of the most transformative technologies of our time—Generative AI, or GenAI. This remarkable branch of artificial intelligence is reshaping industries, sparking creativity, and expanding the horizons of what we thought was possible.\n",
    "\n",
    "What is Generative AI?\n",
    "\n",
    "Generative AI is a type of artificial intelligence designed to create new content. Whether it’s writing text, composing music, generating images, or even crafting videos, GenAI models are able to take input data and produce something entirely original from it. Unlike traditional AI models, which are trained to recognize patterns or make decisions, GenAI is trained to generate entirely new outputs—opening up a whole new world of possibilities.\n",
    "\n",
    "At the heart of GenAI are powerful models like GPT-4, BERT, DALL-E, and many others. These models have been trained on vast amounts of data, allowing them to generate human-like text, realistic images, and even videos from scratch. But it’s not just the models themselves that are exciting—it’s the applications they enable.\n",
    "\n",
    "Applications of Generative AI\n",
    "\n",
    "Let’s talk about the real-world impact of GenAI.\n",
    "\n",
    "In the creative industries, GenAI is helping artists, writers, and designers push the boundaries of their work. From AI-generated art to music composition, we are witnessing a revolution in the creative process. Tools like OpenAI’s DALL-E are allowing artists to create entirely new visual content based on nothing more than a simple text prompt. Writers are using language models like GPT-4 to brainstorm ideas, write stories, or even compose entire novels.\n",
    "\n",
    "In business, GenAI is automating tasks that once required human input. From generating marketing copy and customer support responses to summarizing lengthy documents, businesses are saving time and resources by using AI to handle repetitive tasks while focusing their human capital on higher-value activities. Summarization models, for instance, are already being used in legal, research, and news industries to condense long articles or documents into concise summaries—saving countless hours.\n",
    "\n",
    "In healthcare, GenAI is being applied to medical research, drug discovery, and personalized treatment plans. AI can generate simulations of molecules for drug discovery, accelerating the pace of research that could lead to breakthroughs in treatment. Similarly, in radiology and diagnostics, generative models are helping doctors generate synthetic images to aid in disease detection and medical training.\n",
    "\n",
    "How Does Generative AI Work?\n",
    "\n",
    "At its core, Generative AI uses deep learning models, often based on architectures like transformers. These models are trained on vast datasets, where they learn patterns, structures, and relationships within the data. When prompted, these models generate new content by predicting the next piece of information based on what they’ve learned.\n",
    "\n",
    "For example, when you ask a text model like GPT-4 to summarize an article, it analyzes the article’s content and generates a concise summary. When you give a model like DALL-E a text description, it translates that description into a unique image.\"\"\""
   ]
  },
  {
   "cell_type": "code",
   "execution_count": 21,
   "metadata": {},
   "outputs": [],
   "source": [
    "chat_message=[\n",
    "    SystemMessage(content=\"Yoy are an expert in summarizing the speech\"),\n",
    "    HumanMessage(content=\"please provide the short and precise summary of the following speech:\\n Text:{speech}\")\n",
    "]"
   ]
  },
  {
   "cell_type": "code",
   "execution_count": 22,
   "metadata": {},
   "outputs": [
    {
     "data": {
      "text/plain": [
       "679"
      ]
     },
     "execution_count": 22,
     "metadata": {},
     "output_type": "execute_result"
    }
   ],
   "source": [
    "llm.get_num_tokens(speech)"
   ]
  },
  {
   "cell_type": "code",
   "execution_count": 23,
   "metadata": {},
   "outputs": [
    {
     "data": {
      "text/plain": [
       "AIMessage(content=\"Please provide me with the speech text so I can summarize it for you. I'm ready to analyze and condense the information into a short and precise summary. \\n\\n\", additional_kwargs={}, response_metadata={'token_usage': {'completion_tokens': 37, 'prompt_tokens': 35, 'total_tokens': 72, 'completion_time': 0.067272727, 'prompt_time': 0.000317639, 'queue_time': 0.01317287, 'total_time': 0.067590366}, 'model_name': 'Gemma2-9b-It', 'system_fingerprint': 'fp_10c08bf97d', 'finish_reason': 'stop', 'logprobs': None}, id='run-96f333b6-1bd5-42b8-ad06-619f09d51adc-0', usage_metadata={'input_tokens': 35, 'output_tokens': 37, 'total_tokens': 72})"
      ]
     },
     "execution_count": 23,
     "metadata": {},
     "output_type": "execute_result"
    }
   ],
   "source": [
    "llm(chat_message)\n"
   ]
  },
  {
   "cell_type": "markdown",
   "metadata": {},
   "source": [
    "PROMPT Template text summarization"
   ]
  },
  {
   "cell_type": "code",
   "execution_count": 25,
   "metadata": {},
   "outputs": [
    {
     "data": {
      "text/plain": [
       "PromptTemplate(input_variables=['language', 'speech'], input_types={}, partial_variables={}, template='\\nwrite a summary o fhe following speech\\nspeech:{speech}\\nTranslate the summary into the {language}')"
      ]
     },
     "execution_count": 25,
     "metadata": {},
     "output_type": "execute_result"
    }
   ],
   "source": [
    "from langchain.chains import LLMChain\n",
    "from langchain import PromptTemplate\n",
    "\n",
    "generictemplate = \"\"\"\n",
    "write a summary o fhe following speech\n",
    "speech:{speech}\n",
    "Translate the summary into the {language}\"\"\"\n",
    "\n",
    "prompt = PromptTemplate(\n",
    "    input_variables = [\"speech\",\"language\"],\n",
    "    template = generictemplate \n",
    ")\n",
    "prompt"
   ]
  },
  {
   "cell_type": "code",
   "execution_count": 27,
   "metadata": {},
   "outputs": [],
   "source": [
    "complete_prompt = prompt.format(speech=speech,language=\"Telugu\")"
   ]
  },
  {
   "cell_type": "code",
   "execution_count": 28,
   "metadata": {},
   "outputs": [
    {
     "data": {
      "text/plain": [
       "700"
      ]
     },
     "execution_count": 28,
     "metadata": {},
     "output_type": "execute_result"
    }
   ],
   "source": [
    "llm.get_num_tokens(complete_prompt)"
   ]
  },
  {
   "cell_type": "code",
   "execution_count": 29,
   "metadata": {},
   "outputs": [
    {
     "name": "stderr",
     "output_type": "stream",
     "text": [
      "C:\\Users\\ediga\\AppData\\Local\\Temp\\ipykernel_32428\\6765271.py:1: LangChainDeprecationWarning: The class `LLMChain` was deprecated in LangChain 0.1.17 and will be removed in 1.0. Use :meth:`~RunnableSequence, e.g., `prompt | llm`` instead.\n",
      "  llm_chain = LLMChain(llm=llm,prompt=prompt)\n",
      "C:\\Users\\ediga\\AppData\\Local\\Temp\\ipykernel_32428\\6765271.py:2: LangChainDeprecationWarning: The method `Chain.__call__` was deprecated in langchain 0.1.0 and will be removed in 1.0. Use :meth:`~invoke` instead.\n",
      "  summary = llm_chain({\"speech\":speech,\"language\":\"Telugu\"})\n"
     ]
    },
    {
     "data": {
      "text/plain": [
       "{'speech': 'Speech on Generative AI: Unlocking New Frontiers in Creativity and Innovation\\n\\nGood [morning/afternoon], everyone.\\n\\nToday, I am excited to speak with you about one of the most transformative technologies of our time—Generative AI, or GenAI. This remarkable branch of artificial intelligence is reshaping industries, sparking creativity, and expanding the horizons of what we thought was possible.\\n\\nWhat is Generative AI?\\n\\nGenerative AI is a type of artificial intelligence designed to create new content. Whether it’s writing text, composing music, generating images, or even crafting videos, GenAI models are able to take input data and produce something entirely original from it. Unlike traditional AI models, which are trained to recognize patterns or make decisions, GenAI is trained to generate entirely new outputs—opening up a whole new world of possibilities.\\n\\nAt the heart of GenAI are powerful models like GPT-4, BERT, DALL-E, and many others. These models have been trained on vast amounts of data, allowing them to generate human-like text, realistic images, and even videos from scratch. But it’s not just the models themselves that are exciting—it’s the applications they enable.\\n\\nApplications of Generative AI\\n\\nLet’s talk about the real-world impact of GenAI.\\n\\nIn the creative industries, GenAI is helping artists, writers, and designers push the boundaries of their work. From AI-generated art to music composition, we are witnessing a revolution in the creative process. Tools like OpenAI’s DALL-E are allowing artists to create entirely new visual content based on nothing more than a simple text prompt. Writers are using language models like GPT-4 to brainstorm ideas, write stories, or even compose entire novels.\\n\\nIn business, GenAI is automating tasks that once required human input. From generating marketing copy and customer support responses to summarizing lengthy documents, businesses are saving time and resources by using AI to handle repetitive tasks while focusing their human capital on higher-value activities. Summarization models, for instance, are already being used in legal, research, and news industries to condense long articles or documents into concise summaries—saving countless hours.\\n\\nIn healthcare, GenAI is being applied to medical research, drug discovery, and personalized treatment plans. AI can generate simulations of molecules for drug discovery, accelerating the pace of research that could lead to breakthroughs in treatment. Similarly, in radiology and diagnostics, generative models are helping doctors generate synthetic images to aid in disease detection and medical training.\\n\\nHow Does Generative AI Work?\\n\\nAt its core, Generative AI uses deep learning models, often based on architectures like transformers. These models are trained on vast datasets, where they learn patterns, structures, and relationships within the data. When prompted, these models generate new content by predicting the next piece of information based on what they’ve learned.\\n\\nFor example, when you ask a text model like GPT-4 to summarize an article, it analyzes the article’s content and generates a concise summary. When you give a model like DALL-E a text description, it translates that description into a unique image.',\n",
       " 'language': 'Telugu',\n",
       " 'text': '## \\n\\nఈ ప్రసంగంలో, మనం అత్యంత ప్రభావవంతమైన ప్రौद्यోగిక్ - జనరేటివ్ ఎయి (GenAI) - గురించి చర్చిస్తాం. ఇది కొత్త సృజనాత్మకతను మరియు నవీనతను ప్రారంభిస్తుంది. GenAI,  మానవులు చేసిన కంటెంట్ ని తయారుచేసే AI రకం. \\n\\n**GenAI లక్షణాలు:**\\n\\n*  టెక్స్ట్ రాయడం, సంగీతం తయారుచేయడం, చిత్రాలను పుట్టించడం,  కాల్ వీడియోస్ ని కూడా తయారు చేయడానికి Capable.\\n*  వృత్తిపరంగా AI మోడల్స్ లో భిన్నంగా, GenAI కొత్తవి  తయారుచేయడానికి ప్రశిక్షిస్తుంది. \\n\\n**GenAI యొక్క అనువర్తనాలు:**\\n\\n*  **సృజనాత్మక రంగాలు:** కళాకారులు, రచయితలు, డిజైనర్లు తమ పనులను అధిగమించడానికి GenAI ను ఉపయోగిస్తున్నారు.\\n*  **వ్యాపారం:** GenAI మార్కెటింగ్ కంటెంట్ తయారుచేయడం, కస్టమర్ సపోర్ట్ రిపోన్స్ లు ఇవ్వడం, పొడదీ Documents ని సారాంశం చేయడం వంటి పనులను ఆటోమేట్ చేస్తుంది.\\n*  **ఆరోగ్యం:** GenAI వైద్య పరిశోధన, దువ్వులు కనుగొనడం, వ్యక్తిగత చికిత్స పథకాలలో ఉపయోగిస్తున్నారు.\\n\\n**GenAI ఎలా పనిచేస్తుంది:**\\n\\n*  GenAI డిప్ లర్నింగ్ మోడల్స్ ను ఉపయోగిస్తుంది.\\n*  వాటిని అధిక విస్తృత జాబితా ఈ ఉదాహరణలతో శిక్షిస్తారు. \\n*  ప్రొంప్ట్ ఇవ్వడానికి, ప్రాతిపదికగా,  వాటి가 నేర్చుకున్నట్టుగా తదుపరి వివరణను అంచనా వేస్తుంది.\\n\\n\\n\\n'}"
      ]
     },
     "execution_count": 29,
     "metadata": {},
     "output_type": "execute_result"
    }
   ],
   "source": [
    "llm_chain = LLMChain(llm=llm,prompt=prompt)\n",
    "summary = llm_chain({\"speech\":speech,\"language\":\"Telugu\"})\n",
    "summary"
   ]
  },
  {
   "cell_type": "code",
   "execution_count": null,
   "metadata": {},
   "outputs": [],
   "source": []
  }
 ],
 "metadata": {
  "kernelspec": {
   "display_name": "myenv",
   "language": "python",
   "name": "python3"
  },
  "language_info": {
   "codemirror_mode": {
    "name": "ipython",
    "version": 3
   },
   "file_extension": ".py",
   "mimetype": "text/x-python",
   "name": "python",
   "nbconvert_exporter": "python",
   "pygments_lexer": "ipython3",
   "version": "3.12.4"
  }
 },
 "nbformat": 4,
 "nbformat_minor": 2
}
